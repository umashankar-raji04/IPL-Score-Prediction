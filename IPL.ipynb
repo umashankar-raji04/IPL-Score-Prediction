{
  "cells": [
    {
      "cell_type": "code",
      "execution_count": 2,
      "metadata": {
        "id": "KrlqPJCaL1pW"
      },
      "outputs": [],
      "source": [
        "import pandas\n",
        "import matplotlib.pyplot as plt\n",
        "from scipy import stats"
      ]
    },
    {
      "cell_type": "code",
      "execution_count": null,
      "metadata": {
        "id": "wul0HrSzN4VM"
      },
      "outputs": [],
      "source": [
        "xlsx = pandas.ExcelFile('ipl.xls')"
      ]
    },
    {
      "cell_type": "code",
      "execution_count": null,
      "metadata": {
        "colab": {
          "base_uri": "https://localhost:8080/"
        },
        "id": "ilY7tryAOH8n",
        "outputId": "ffb799c6-695f-4a20-8468-8ecf77df7b20"
      },
      "outputs": [
        {
          "ename": "NameError",
          "evalue": "name 'xlsx' is not defined",
          "output_type": "error",
          "traceback": [
            "\u001b[1;31m---------------------------------------------------------------------------\u001b[0m",
            "\u001b[1;31mNameError\u001b[0m                                 Traceback (most recent call last)",
            "Cell \u001b[1;32mIn[6], line 1\u001b[0m\n\u001b[1;32m----> 1\u001b[0m \u001b[38;5;28mlist\u001b[39m \u001b[38;5;241m=\u001b[39m \u001b[43mxlsx\u001b[49m\u001b[38;5;241m.\u001b[39msheet_names\n\u001b[0;32m      2\u001b[0m \u001b[38;5;28mprint\u001b[39m(\u001b[38;5;28mlist\u001b[39m)\n",
            "\u001b[1;31mNameError\u001b[0m: name 'xlsx' is not defined"
          ]
        }
      ],
      "source": [
        "list = xls.sheet_names\n",
        "print(list)"
      ]
    },
    {
      "cell_type": "code",
      "execution_count": null,
      "metadata": {
        "id": "DTIhJK62OMvI"
      },
      "outputs": [
        {
          "ename": "",
          "evalue": "",
          "output_type": "error",
          "traceback": [
            "\u001b[1;31mRunning cells with 'c:\\Users\\Viswa Teja\\AppData\\Local\\Programs\\Python\\Python312\\python.exe' requires the ipykernel package.\n",
            "\u001b[1;31mRun the following command to install 'ipykernel' into the Python environment. \n",
            "\u001b[1;31mCommand: '\"c:/Users/Viswa Teja/AppData/Local/Programs/Python/Python312/python.exe\" -m pip install ipykernel -U --user --force-reinstall'"
          ]
        }
      ],
      "source": [
        "player = \"MSD\""
      ]
    },
    {
      "cell_type": "code",
      "execution_count": null,
      "metadata": {
        "id": "jwD5W09dORMX"
      },
      "outputs": [],
      "source": [
        "df = pandas.read_excel('ipl.xls',player)\n",
        "x = df['Mat']\n",
        "y = df['Runs']"
      ]
    },
    {
      "cell_type": "code",
      "execution_count": null,
      "metadata": {
        "id": "Jsxbc672Oe44"
      },
      "outputs": [],
      "source": [
        "\n",
        "slope, intercept, r, p, std_err = stats.linregress(x, y)\n",
        "\n",
        "def myfunc(x):\n",
        "  return slope * x + intercept"
      ]
    },
    {
      "cell_type": "code",
      "execution_count": null,
      "metadata": {
        "id": "7ToMcdz3Or2B"
      },
      "outputs": [],
      "source": [
        "predict_matches = 14"
      ]
    },
    {
      "cell_type": "code",
      "execution_count": null,
      "metadata": {
        "colab": {
          "base_uri": "https://localhost:8080/"
        },
        "id": "H_6FPGvgOoQ1",
        "outputId": "0acaae0e-97b7-4018-ae46-d2a96f61d093"
      },
      "outputs": [
        {
          "name": "stdout",
          "output_type": "stream",
          "text": [
            "Expected Runs he will score in 2020 IPL:  334\n"
          ]
        }
      ],
      "source": [
        "runs = myfunc(predict_matches)\n",
        "print(\"Expected Runs he will score in 2020 IPL: \",int(runs))"
      ]
    }
  ],
  "metadata": {
    "colab": {
      "provenance": []
    },
    "kernelspec": {
      "display_name": "Python 3",
      "name": "python3"
    },
    "language_info": {
      "codemirror_mode": {
        "name": "ipython",
        "version": 3
      },
      "file_extension": ".py",
      "mimetype": "text/x-python",
      "name": "python",
      "nbconvert_exporter": "python",
      "pygments_lexer": "ipython3",
      "version": "3.11.4"
    }
  },
  "nbformat": 4,
  "nbformat_minor": 0
}
